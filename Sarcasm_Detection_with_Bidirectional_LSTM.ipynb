{
  "nbformat": 4,
  "nbformat_minor": 0,
  "metadata": {
    "colab": {
      "provenance": [],
      "collapsed_sections": [],
      "authorship_tag": "ABX9TyNn8vTheIFRzv94oqifdiPM",
      "include_colab_link": true
    },
    "kernelspec": {
      "name": "python3",
      "display_name": "Python 3"
    },
    "language_info": {
      "name": "python"
    },
    "accelerator": "GPU"
  },
  "cells": [
    {
      "cell_type": "markdown",
      "metadata": {
        "id": "view-in-github",
        "colab_type": "text"
      },
      "source": [
        "<a href=\"https://colab.research.google.com/github/mussewold/tensorflow-projects-/blob/main/Sarcasm_Detection_with_Bidirectional_LSTM.ipynb\" target=\"_parent\"><img src=\"https://colab.research.google.com/assets/colab-badge.svg\" alt=\"Open In Colab\"/></a>"
      ]
    },
    {
      "cell_type": "markdown",
      "source": [
        "# Sarcasm Detection with Bidirectional LSTM\n"
      ],
      "metadata": {
        "id": "chxQVlRtNbsA"
      }
    },
    {
      "cell_type": "markdown",
      "source": [
        "### Downloading the Dataset"
      ],
      "metadata": {
        "id": "DvZ2JVuNNetm"
      }
    },
    {
      "cell_type": "code",
      "execution_count": 1,
      "metadata": {
        "colab": {
          "base_uri": "https://localhost:8080/"
        },
        "id": "SccFnSaL95Jb",
        "outputId": "03784c31-e9da-46c5-8a7f-c5ceb8dfc7de"
      },
      "outputs": [
        {
          "output_type": "stream",
          "name": "stdout",
          "text": [
            "--2022-10-11 16:55:17--  https://storage.googleapis.com/tensorflow-1-public/course3/sarcasm.json\n",
            "Resolving storage.googleapis.com (storage.googleapis.com)... 74.125.68.128, 142.250.4.128, 74.125.24.128, ...\n",
            "Connecting to storage.googleapis.com (storage.googleapis.com)|74.125.68.128|:443... connected.\n",
            "HTTP request sent, awaiting response... 200 OK\n",
            "Length: 5643545 (5.4M) [application/json]\n",
            "Saving to: ‘sarcasm.json’\n",
            "\n",
            "sarcasm.json        100%[===================>]   5.38M  16.8MB/s    in 0.3s    \n",
            "\n",
            "2022-10-11 16:55:18 (16.8 MB/s) - ‘sarcasm.json’ saved [5643545/5643545]\n",
            "\n"
          ]
        }
      ],
      "source": [
        "#downloading the dataset\n",
        "!wget https://storage.googleapis.com/tensorflow-1-public/course3/sarcasm.json"
      ]
    },
    {
      "cell_type": "markdown",
      "source": [
        "### Importing necessary libraries and opening the file as iterable \n"
      ],
      "metadata": {
        "id": "fS2Yd3i3Niz0"
      }
    },
    {
      "cell_type": "code",
      "source": [
        "import json\n",
        "import tensorflow as tf\n",
        "import numpy as np"
      ],
      "metadata": {
        "id": "it3SM1Af-WPN"
      },
      "execution_count": 2,
      "outputs": []
    },
    {
      "cell_type": "code",
      "source": [
        "with open('sarcasm.json') as file:\n",
        "  the_file = json.load(file)\n",
        "\n",
        "sentences = []\n",
        "labels =[]\n",
        "\n",
        "for item in the_file:\n",
        "  sentences.append(item['headline'])\n",
        "  labels.append(item['is_sarcastic'])"
      ],
      "metadata": {
        "id": "ER4X3vmN9-Up"
      },
      "execution_count": 8,
      "outputs": []
    },
    {
      "cell_type": "markdown",
      "source": [
        "train-test split"
      ],
      "metadata": {
        "id": "_hGXtJ11B0Ic"
      }
    },
    {
      "cell_type": "code",
      "source": [
        "#26709 senteces\n",
        "def split_train_test(data, label, train_percent):\n",
        "  split_size = int(train_percent*len(data))\n",
        "\n",
        "  training_data = data[0:split_size]\n",
        "  training_label = label[0:split_size]\n",
        "\n",
        "  test_data = data[split_size:]\n",
        "  test_label = label[split_size:]\n",
        "\n",
        "  return training_data, training_label, test_data, test_label\n",
        "\n",
        "training_data, training_label, test_data, test_label = split_train_test(sentences, labels, 0.8)\n",
        "print(f\"Total data size: {len(sentences)}\")\n",
        "print(f\"training data size: {len(training_data)}\")\n",
        "print(f\"test data size: {len(test_data)}\")"
      ],
      "metadata": {
        "colab": {
          "base_uri": "https://localhost:8080/"
        },
        "id": "0xXCifgV-gmj",
        "outputId": "0e98f765-0f36-4885-fd20-324583f098db"
      },
      "execution_count": 15,
      "outputs": [
        {
          "output_type": "stream",
          "name": "stdout",
          "text": [
            "Total data size: 26709\n",
            "training data size: 21367\n",
            "test data size: 5342\n"
          ]
        }
      ]
    },
    {
      "cell_type": "markdown",
      "source": [
        "HyperParameters (All in one place)"
      ],
      "metadata": {
        "id": "MIKBSNdRNsEi"
      }
    },
    {
      "cell_type": "code",
      "source": [
        "#hyperparameters\n",
        "oov_tok = '<UNK>'\n",
        "pad_type='post'\n",
        "trunc_type='post'\n",
        "vocab_size = 10000\n",
        "embedding_dim = 64\n",
        "max_length = 200\n",
        "lstm_dim=32\n",
        "dense_dim=32"
      ],
      "metadata": {
        "id": "_9m78YmUEKFP"
      },
      "execution_count": 22,
      "outputs": []
    },
    {
      "cell_type": "markdown",
      "source": [
        "Tokenizing and padding Training and Testing sentences\n"
      ],
      "metadata": {
        "id": "HbK-ybFcNyzT"
      }
    },
    {
      "cell_type": "code",
      "source": [
        "from tensorflow.keras.preprocessing.text import Tokenizer\n",
        "from tensorflow.keras.preprocessing.sequence import pad_sequences\n",
        "\n",
        "tokenizer = Tokenizer(num_words=vocab_size, oov_token=oov_tok)\n",
        "tokenizer.fit_on_texts(training_data)\n",
        "word_index = tokenizer.word_index\n",
        "#sequencing and padding training sentences\n",
        "sequences = tokenizer.texts_to_sequences(training_data)\n",
        "padded = pad_sequences(sequences,maxlen=max_length, padding=pad_type, truncating=trunc_type)\n",
        "#sequencing and padding testing sentences\n",
        "test_sequences = tokenizer.texts_to_sequences(test_data)\n",
        "test_padded = pad_sequences(test_sequences,maxlen=max_length, padding=pad_type, truncating=trunc_type)\n",
        "\n",
        "#casting the training and testing labels into numpy arrays\n",
        "training_labels_final = np.array(training_label)\n",
        "testing_labels_final = np.array(test_label)"
      ],
      "metadata": {
        "id": "AwQD5x8xFToI"
      },
      "execution_count": 31,
      "outputs": []
    },
    {
      "cell_type": "markdown",
      "source": [
        "## Lets build the model (yayyyyyyyy!!!🥳)"
      ],
      "metadata": {
        "id": "GJwuQxkqEAqY"
      }
    },
    {
      "cell_type": "code",
      "source": [
        "model = tf.keras.models.Sequential([\n",
        "    tf.keras.layers.Embedding(vocab_size, embedding_dim, input_length = max_length),\n",
        "    tf.keras.layers.Bidirectional(tf.keras.layers.LSTM(lstm_dim)),\n",
        "    tf.keras.layers.Dense(dense_dim, activation='relu'),\n",
        "    tf.keras.layers.Dense(1, activation='sigmoid')\n",
        "])\n",
        "model.summary()"
      ],
      "metadata": {
        "colab": {
          "base_uri": "https://localhost:8080/"
        },
        "id": "wu63zYxz_tPN",
        "outputId": "294c80a8-7452-4d89-efcd-dce347b090f8"
      },
      "execution_count": 32,
      "outputs": [
        {
          "output_type": "stream",
          "name": "stdout",
          "text": [
            "Model: \"sequential_3\"\n",
            "_________________________________________________________________\n",
            " Layer (type)                Output Shape              Param #   \n",
            "=================================================================\n",
            " embedding_3 (Embedding)     (None, 200, 64)           640000    \n",
            "                                                                 \n",
            " bidirectional_3 (Bidirectio  (None, 64)               24832     \n",
            " nal)                                                            \n",
            "                                                                 \n",
            " dense_6 (Dense)             (None, 32)                2080      \n",
            "                                                                 \n",
            " dense_7 (Dense)             (None, 1)                 33        \n",
            "                                                                 \n",
            "=================================================================\n",
            "Total params: 666,945\n",
            "Trainable params: 666,945\n",
            "Non-trainable params: 0\n",
            "_________________________________________________________________\n"
          ]
        }
      ]
    },
    {
      "cell_type": "code",
      "source": [
        "model.compile(optimizer='adam',\n",
        "              loss='binary_crossentropy',\n",
        "              metrics=['accuracy'])"
      ],
      "metadata": {
        "id": "iEmmgKEQE9I3"
      },
      "execution_count": 33,
      "outputs": []
    },
    {
      "cell_type": "code",
      "source": [
        "num_epochs = 10\n",
        "history = model.fit(padded, training_labels_final, epochs=num_epochs,\n",
        "                    validation_data=(test_padded, testing_labels_final))"
      ],
      "metadata": {
        "colab": {
          "base_uri": "https://localhost:8080/"
        },
        "id": "y9bop9zjFO7I",
        "outputId": "2546e942-bb42-4638-fd1c-bf25f3cd054b"
      },
      "execution_count": 34,
      "outputs": [
        {
          "output_type": "stream",
          "name": "stdout",
          "text": [
            "Epoch 1/10\n",
            "668/668 [==============================] - 23s 21ms/step - loss: 0.3851 - accuracy: 0.8167 - val_loss: 0.3253 - val_accuracy: 0.8510\n",
            "Epoch 2/10\n",
            "668/668 [==============================] - 13s 20ms/step - loss: 0.1968 - accuracy: 0.9205 - val_loss: 0.3500 - val_accuracy: 0.8527\n",
            "Epoch 3/10\n",
            "668/668 [==============================] - 13s 20ms/step - loss: 0.1139 - accuracy: 0.9566 - val_loss: 0.3930 - val_accuracy: 0.8544\n",
            "Epoch 4/10\n",
            "668/668 [==============================] - 13s 20ms/step - loss: 0.0683 - accuracy: 0.9754 - val_loss: 0.5052 - val_accuracy: 0.8480\n",
            "Epoch 5/10\n",
            "668/668 [==============================] - 13s 20ms/step - loss: 0.0395 - accuracy: 0.9866 - val_loss: 0.6653 - val_accuracy: 0.8392\n",
            "Epoch 6/10\n",
            "668/668 [==============================] - 13s 19ms/step - loss: 0.0253 - accuracy: 0.9916 - val_loss: 0.7566 - val_accuracy: 0.8370\n",
            "Epoch 7/10\n",
            "668/668 [==============================] - 12s 18ms/step - loss: 0.0189 - accuracy: 0.9936 - val_loss: 0.8890 - val_accuracy: 0.8332\n",
            "Epoch 8/10\n",
            "668/668 [==============================] - 13s 19ms/step - loss: 0.0110 - accuracy: 0.9961 - val_loss: 0.9771 - val_accuracy: 0.8315\n",
            "Epoch 9/10\n",
            "668/668 [==============================] - 15s 22ms/step - loss: 0.0099 - accuracy: 0.9967 - val_loss: 0.9925 - val_accuracy: 0.8325\n",
            "Epoch 10/10\n",
            "668/668 [==============================] - 13s 20ms/step - loss: 0.0079 - accuracy: 0.9972 - val_loss: 1.0190 - val_accuracy: 0.8364\n"
          ]
        }
      ]
    },
    {
      "cell_type": "markdown",
      "source": [
        "### Graphs graphs graphs (yummm! 😋)"
      ],
      "metadata": {
        "id": "8gInntY9N-if"
      }
    },
    {
      "cell_type": "code",
      "source": [
        "import matplotlib.pyplot as plt\n",
        "\n",
        "def plot_graph(history, string):\n",
        "  plt.plot(history.history[string])\n",
        "  plt.plot(history.history['val_'+string])\n",
        "  plt.xlabel('Epochs')\n",
        "  plt.ylabel(string)\n",
        "  plt.legend([string, 'val_' + string])\n",
        "  plt.show()\n",
        "plot_graph(history, 'accuracy')\n",
        "plot_graph(history, 'loss')"
      ],
      "metadata": {
        "colab": {
          "base_uri": "https://localhost:8080/",
          "height": 541
        },
        "id": "cGl7A1FXHiIg",
        "outputId": "02f33039-2f65-4322-c94b-a4a16fb52262"
      },
      "execution_count": 37,
      "outputs": [
        {
          "output_type": "display_data",
          "data": {
            "text/plain": [
              "<Figure size 432x288 with 1 Axes>"
            ],
            "image/png": "[encoded data removed]"
          },
          "metadata": {
            "needs_background": "light"
          }
        },
        {
          "output_type": "display_data",
          "data": {
            "text/plain": [
              "<Figure size 432x288 with 1 Axes>"
            ],
            "image/png": "[encoded data removed]"
          },
          "metadata": {
            "needs_background": "light"
          }
        }
      ]
    },
    {
      "cell_type": "markdown",
      "source": [
        "ughhhh 😠 Mr.validation is overfitting 🤔 "
      ],
      "metadata": {
        "id": "7TfBNiJhOQ1c"
      }
    }
  ]
}